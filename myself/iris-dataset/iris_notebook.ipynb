{
 "cells": [
  {
   "cell_type": "code",
   "execution_count": 3,
   "metadata": {},
   "outputs": [],
   "source": [
    "import numpy as np\n",
    "from sklearn.datasets import load_iris\n",
    "from sklearn import tree\n",
    "\n",
    "iris = load_iris()"
   ]
  },
  {
   "cell_type": "code",
   "execution_count": 4,
   "metadata": {},
   "outputs": [
    {
     "name": "stdout",
     "output_type": "stream",
     "text": [
      "\n",
      "iris.feature_names\n",
      "['sepal length (cm)', 'sepal width (cm)', 'petal length (cm)', 'petal width (cm)']\n",
      "\n",
      "iris.target_names\n",
      "['setosa' 'versicolor' 'virginica']\n"
     ]
    }
   ],
   "source": [
    "print \"\\niris.feature_names\"\n",
    "print iris.feature_names\n",
    "\n",
    "print \"\\niris.target_names\"\n",
    "print iris.target_names"
   ]
  },
  {
   "cell_type": "code",
   "execution_count": 5,
   "metadata": {},
   "outputs": [
    {
     "name": "stdout",
     "output_type": "stream",
     "text": [
      "\n",
      "iris.data[0]\n",
      "[ 5.1  3.5  1.4  0.2]\n",
      "\n",
      "iris.target[0]\n",
      "0\n",
      "\n",
      "iris.target_names[iris.target[0]]\n",
      "setosa\n"
     ]
    }
   ],
   "source": [
    "print \"\\niris.data[0]\"\n",
    "print iris.data[0]\n",
    "\n",
    "print \"\\niris.target[0]\"\n",
    "print iris.target[0]\n",
    "\n",
    "print \"\\niris.target_names[iris.target[0]]\"\n",
    "print iris.target_names[iris.target[0]]"
   ]
  },
  {
   "cell_type": "code",
   "execution_count": 6,
   "metadata": {},
   "outputs": [
    {
     "name": "stdout",
     "output_type": "stream",
     "text": [
      "\n",
      "type(train_target)\n",
      "<type 'numpy.ndarray'>\n",
      "\n",
      "train_target.shape\n",
      "(147L,)\n",
      "\n",
      "type(train_data)\n",
      "<type 'numpy.ndarray'>\n",
      "\n",
      "train_data.shape\n",
      "(147L, 4L)\n",
      "\n",
      "type(test_target)\n",
      "<type 'numpy.ndarray'>\n",
      "\n",
      "test_target.shape\n",
      "(3L,)\n",
      "\n",
      "type(test_data)\n",
      "<type 'numpy.ndarray'>\n",
      "\n",
      "test_data.shape\n",
      "(3L, 4L)\n"
     ]
    }
   ],
   "source": [
    "# iterating over the 150 rows\n",
    "\n",
    "#for i in range(len(iris.target)):\n",
    "#\tprint \"Example %d: label %s, features %s\" % (i, iris.target[i], iris.data[i])\n",
    "\n",
    "# remove one example of each type of flower\n",
    "test_idx = [0, 50, 100] # setosa, versicolor and so on\n",
    "\n",
    "# training data\n",
    "train_target = np.delete(iris.target, test_idx)\n",
    "train_data = np.delete(iris.data, test_idx, axis=0)\n",
    "\n",
    "# testing data\n",
    "test_target = iris.target[test_idx]\n",
    "test_data = iris.data[test_idx]\n",
    "\n",
    "print \"\\ntype(train_target)\"\n",
    "print type(train_target)\n",
    "print \"\\ntrain_target.shape\"\n",
    "print train_target.shape\n",
    "print \"\\ntype(train_data)\"\n",
    "print type(train_data)\n",
    "print \"\\ntrain_data.shape\"\n",
    "print train_data.shape\n",
    "\n",
    "print \"\\ntype(test_target)\"\n",
    "print type(test_target)\n",
    "print \"\\ntest_target.shape\"\n",
    "print test_target.shape\n",
    "print \"\\ntype(test_data)\"\n",
    "print type(test_data)\n",
    "print \"\\ntest_data.shape\"\n",
    "print test_data.shape"
   ]
  },
  {
   "cell_type": "code",
   "execution_count": 13,
   "metadata": {},
   "outputs": [
    {
     "name": "stdout",
     "output_type": "stream",
     "text": [
      "[[ 5.1  3.5  1.4  0.2]\n",
      " [ 7.   3.2  4.7  1.4]\n",
      " [ 6.3  3.3  6.   2.5]]\n",
      "\n",
      "Actual Answer for test_data:  [0 1 2]\n",
      "Decision Tree predicts:  [0]\n",
      "Decision Tree accuracy:  1.0\n"
     ]
    }
   ],
   "source": [
    "clf = tree.DecisionTreeClassifier()\n",
    "clf.fit(train_data, train_target)\n",
    "\n",
    "print(test_data)\n",
    "test = [[5.3,6.5,2.4,1.2]]\n",
    "\n",
    "print \"\\nActual Answer for test_data: \", test_target\n",
    "print \"Decision Tree predicts: \", clf.predict(test)\n",
    "print \"Decision Tree accuracy: \", clf.score(test_data, test_target)\n",
    "\n",
    "import pickle\n",
    "filename = 'finalized_model.sav'\n",
    "pickle.dump(clf, open(filename, 'wb'))"
   ]
  },
  {
   "cell_type": "code",
   "execution_count": null,
   "metadata": {
    "collapsed": true
   },
   "outputs": [],
   "source": []
  }
 ],
 "metadata": {
  "kernelspec": {
   "display_name": "Python 2",
   "language": "python",
   "name": "python2"
  },
  "language_info": {
   "codemirror_mode": {
    "name": "ipython",
    "version": 2
   },
   "file_extension": ".py",
   "mimetype": "text/x-python",
   "name": "python",
   "nbconvert_exporter": "python",
   "pygments_lexer": "ipython2",
   "version": "2.7.14"
  }
 },
 "nbformat": 4,
 "nbformat_minor": 2
}
