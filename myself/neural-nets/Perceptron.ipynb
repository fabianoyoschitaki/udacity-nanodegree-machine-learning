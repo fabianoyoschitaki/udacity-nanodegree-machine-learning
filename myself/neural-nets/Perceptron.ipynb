{
 "cells": [
  {
   "cell_type": "code",
   "execution_count": 2,
   "metadata": {
    "collapsed": true
   },
   "outputs": [],
   "source": [
    "import sys\n",
    "import matplotlib.pyplot as plt\n",
    "import seaborn as sns\n",
    "import csv\n",
    "import numpy as np"
   ]
  },
  {
   "cell_type": "code",
   "execution_count": 14,
   "metadata": {
    "collapsed": true
   },
   "outputs": [],
   "source": [
    "def getIrisData():\n",
    "    X = []\n",
    "    Y = []\n",
    "    with open('iris.csv', 'r') as r:\n",
    "        reader = csv.DictReader(r, delimiter=',')\n",
    "        for row in reader:\n",
    "            x = [float(row['Sepal.Length']), float(row['Petal.Length'])]\n",
    "            if row['Species'] == 'setosa':\n",
    "                y = 1\n",
    "            else:\n",
    "                y = 0\n",
    "            X.append(x)\n",
    "            Y.append(y)\n",
    "    return X, Y, 'Flor de Iris'"
   ]
  },
  {
   "cell_type": "code",
   "execution_count": 15,
   "metadata": {
    "collapsed": true
   },
   "outputs": [],
   "source": [
    "def getANDData():\n",
    "    X = [ [0, 0], [0, 1], [1, 0], [1, 1] ]\n",
    "    Y = [ 0, 0, 0, 1 ]\n",
    "    return X, Y, 'Operador E'"
   ]
  },
  {
   "cell_type": "code",
   "execution_count": 16,
   "metadata": {
    "collapsed": true
   },
   "outputs": [],
   "source": [
    "def getORData():\n",
    "    X = [ [0, 0], [0, 1], [1, 0], [1, 1] ]\n",
    "    Y = [ 0, 1, 1, 1 ]\n",
    "    return X, Y, 'Operador OU'"
   ]
  },
  {
   "cell_type": "code",
   "execution_count": 17,
   "metadata": {
    "collapsed": true
   },
   "outputs": [],
   "source": [
    "def main(args):\n",
    "\n",
    "    # Obtém os dados para teste (escolha um método!)\n",
    "    #X, Y, probName = getANDData()\n",
    "    #X, Y, probName = getORData()\n",
    "    X, Y, probName = getIrisData()\n",
    "\n",
    "    # Cria o Perceptron de 2 características\n",
    "    clf = Perceptron(2)\n",
    "\n",
    "    # Treina o Perceptron\n",
    "    clf.fit(X, Y)\n",
    "\n",
    "    # Plota os dados\n",
    "    pal = sns.color_palette('colorblind', 3)\n",
    "    fig, ax = plt.subplots(1)\n",
    "    X = np.array(X)\n",
    "    xmin = min(X[:,0]) - 0.5\n",
    "    xmax = max(X[:,0]) + 0.5\n",
    "    ymin = min(X[:,1]) - 0.5\n",
    "    ymax = max(X[:,1]) + 0.5\n",
    "    ax.set_xlim([xmin, xmax])\n",
    "    ax.set_ylim([ymin, ymax])\n",
    "\n",
    "    ax.set_title('Problema: {}'.format(probName), fontsize=20)\n",
    "    ax.set_xlabel('$x_1$', fontsize=20)\n",
    "    h = ax.set_ylabel('$x_2$', fontsize=20, labelpad=20)\n",
    "    h.set_rotation(0)\n",
    "\n",
    "    # Plota os pontos de cada classe\n",
    "    lgClass0 = None\n",
    "    lgClass1 = None\n",
    "    for x, y in zip(X, Y):\n",
    "        if y == 0:\n",
    "            color = pal[0]\n",
    "        else:\n",
    "            color = pal[1]\n",
    "        obj, = ax.plot([x[0]], [x[1]], c=color, marker='o', markersize=8,\n",
    "                                       linestyle='None')\n",
    "        if y == 0:\n",
    "            lgClass0 = obj\n",
    "        else:\n",
    "            lgClass1 = obj\n",
    "\n",
    "    # Plota a fronteira de separação (isto é, o hiperplano definido pelos pesos)\n",
    "    # Para isso, usa uma grade de valores previstos com o próprio classificador\n",
    "    # treinado a partir dos dados\n",
    "\n",
    "    h = 0.005 # Tamanho dos \"passos\" para a grade a ser criada\n",
    "    xx, yy = np.meshgrid(np.arange(xmin, xmax, h), np.arange(ymin, ymax, h))\n",
    "\n",
    "    Z = []\n",
    "    for x in np.c_[xx.ravel(), yy.ravel()]:\n",
    "        Z.append(clf.predict(x.tolist()))\n",
    "\n",
    "    Z = np.array(Z).reshape(xx.shape)\n",
    "    CS = ax.contour(xx, yy, Z, colors=[pal[2]])\n",
    "    #ax.axis('off')\n",
    "\n",
    "    label = 'Hiperplano separador ($w = [{:.2f}, {:.2f}]$, $b = {:.2f}$)'\n",
    "    ax.legend([lgClass0, lgClass1, CS.collections[0]],\n",
    "            ['Classe A', 'Classe B', label.format(clf.w[0], clf.w[1], clf.w[2])],\n",
    "            ncol=3, loc='upper right', prop={'size': 12})\n",
    "\n",
    "    plt.show()"
   ]
  },
  {
   "cell_type": "code",
   "execution_count": 18,
   "metadata": {
    "collapsed": true
   },
   "outputs": [],
   "source": [
    "class Perceptron:\n",
    "    '''\n",
    "    Classe que implementa o classificador linear Perceptron.\n",
    "    '''\n",
    "\n",
    "    # --------------------------------------------------------------------------\n",
    "    def __init__(self, n):\n",
    "        '''\n",
    "        Construtor da classe.\n",
    "\n",
    "        Parâmetros\n",
    "        ----------\n",
    "        n: int\n",
    "            Número de características do problema.\n",
    "        '''\n",
    "        # Inicializa a lista de pesos\n",
    "        self.w = [0 for _ in range(n+1)]\n",
    "\n",
    "    # --------------------------------------------------------------------------\n",
    "    def heaviside(self, net):\n",
    "        '''\n",
    "        Função de ativação degrau (heavside).\n",
    "        Sobre: https://pt.wikipedia.org/wiki/Fun%C3%A7%C3%A3o_de_Heaviside)\n",
    "\n",
    "        Parâmetros\n",
    "        ----------\n",
    "        net: double\n",
    "            Valor \"líquido\" para verificação de ativação.\n",
    "\n",
    "        Retornos\n",
    "        --------\n",
    "        act: int\n",
    "            Valor de ativação: 0 se não ativado, 1 se ativado.\n",
    "        '''\n",
    "        if net > 0:\n",
    "            return 1\n",
    "        else:\n",
    "            return 0\n",
    "\n",
    "    # --------------------------------------------------------------------------\n",
    "    def predict(self, x):\n",
    "        '''\n",
    "        Faz a previsão da classe do exemplo x.\n",
    "\n",
    "        Parâmetros\n",
    "        ----------\n",
    "        x: list\n",
    "            Vetor de características de um exemplo a ser classificado.\n",
    "\n",
    "        Retornos:\n",
    "        class: int\n",
    "            Classe a qual o exemplo x pertence: 0 indica a classe A, 1 indica a\n",
    "            classe B.\n",
    "        '''\n",
    "\n",
    "        # Adiciona o viés ao final\n",
    "        x_ = x[:]\n",
    "        x_.append(1)\n",
    "\n",
    "        # Calcula o produto escalar entre os vetores de pesos (w) e entrada (x)\n",
    "        net = 1\n",
    "        for i in range(len(self.w)):\n",
    "            net += self.w[i] * x_[i]\n",
    "\n",
    "        # Executa a função de ativação\n",
    "        f = self.heaviside(net)\n",
    "\n",
    "        # Ativa ou não o neurônio dependendo do resultado da função de ativação\n",
    "        if f > 0:\n",
    "            return 1\n",
    "        else:\n",
    "            return 0\n",
    "\n",
    "    # --------------------------------------------------------------------------\n",
    "    def fit(self, X, Y):\n",
    "        '''\n",
    "        Treina o Perceptron com base nos exemplos e classes de treinamento\n",
    "        dados.\n",
    "\n",
    "        Parâmetros\n",
    "        ----------\n",
    "        X: list\n",
    "            Vetor de exemplos, em que cada exemplo x é um vetor de\n",
    "            características. Ou seja, é uma lista de listas.\n",
    "        Y: list\n",
    "            Vetor de inteiros com as classes verdadeiras (definidas como 0 ou 1)\n",
    "            às quais os respectivos exemplos em X pertencem.\n",
    "        '''\n",
    "\n",
    "        while True:\n",
    "\n",
    "            adjusted = False\n",
    "\n",
    "            # Processa cada exemplo\n",
    "            for x, y in zip(X, Y):\n",
    "\n",
    "                # Faz a predição da classe do exemplo atual\n",
    "                y_pred = self.predict(x)\n",
    "\n",
    "                # Se o Perceptron errou, ajusta os pesos proporcionalmente ao\n",
    "                # erro obtido\n",
    "                if y != y_pred:\n",
    "\n",
    "                    # Adiciona o viés ao final\n",
    "                    x_ = x[:]\n",
    "                    x_.append(1)\n",
    "\n",
    "                    # Ajusta os pesos\n",
    "                    for i in range(len(self.w)):\n",
    "                        self.w[i] += (y - y_pred) * x_[i]\n",
    "                    adjusted = True\n",
    "\n",
    "            # Verifica se convergiu (se não houve ajuste, os pesos já estão\n",
    "            # corretamente ajustados aos exemplos de treinamento). Nesse\n",
    "            # caso, o treinamento acabou! :)\n",
    "            if not adjusted:\n",
    "                break"
   ]
  },
  {
   "cell_type": "code",
   "execution_count": 19,
   "metadata": {},
   "outputs": [
    {
     "data": {
      "image/png": "[encoded data removed]",
      "text/plain": [
       "<matplotlib.figure.Figure at 0xc6b0860>"
      ]
     },
     "metadata": {},
     "output_type": "display_data"
    },
    {
     "data": {
      "image/png": "[encoded data removed]",
      "text/plain": [
       "<matplotlib.figure.Figure at 0xc9cc9b0>"
      ]
     },
     "metadata": {},
     "output_type": "display_data"
    }
   ],
   "source": [
    "if __name__ == '__main__':\n",
    "    main(sys.argv[1:])"
   ]
  },
  {
   "cell_type": "code",
   "execution_count": null,
   "metadata": {
    "collapsed": true
   },
   "outputs": [],
   "source": []
  }
 ],
 "metadata": {
  "kernelspec": {
   "display_name": "Python 2",
   "language": "python",
   "name": "python2"
  },
  "language_info": {
   "codemirror_mode": {
    "name": "ipython",
    "version": 2
   },
   "file_extension": ".py",
   "mimetype": "text/x-python",
   "name": "python",
   "nbconvert_exporter": "python",
   "pygments_lexer": "ipython2",
   "version": "2.7.14"
  }
 },
 "nbformat": 4,
 "nbformat_minor": 2
}
