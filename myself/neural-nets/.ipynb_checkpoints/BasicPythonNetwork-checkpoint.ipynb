{
 "cells": [
  {
   "cell_type": "code",
   "execution_count": 37,
   "metadata": {
    "collapsed": true
   },
   "outputs": [],
   "source": [
    "#http://iamtrask.github.io/2015/07/12/basic-python-network/\n",
    "\n",
    "#2 Layer Neural Network:\n",
    "import numpy as np"
   ]
  },
  {
   "cell_type": "code",
   "execution_count": 183,
   "metadata": {
    "collapsed": true
   },
   "outputs": [],
   "source": [
    "# Sigmoid and its derivative function\n",
    "def nonlin(x, deriv=False):\n",
    "    if (deriv == True):\n",
    "        return x*(1-x)\n",
    "    return 1/(1+np.exp(-x))"
   ]
  },
  {
   "cell_type": "code",
   "execution_count": 194,
   "metadata": {},
   "outputs": [
    {
     "data": {
      "text/plain": [
       "(numpy.ndarray, (4L, 3L))"
      ]
     },
     "execution_count": 194,
     "metadata": {},
     "output_type": "execute_result"
    }
   ],
   "source": [
    "# Input dataset matrix where each row is a training example\n",
    "X = np.array([[0,0,1],\n",
    "              [0,1,1],              \n",
    "              [1,0,1],\n",
    "              [1,1,1]])\n",
    "type(X), X.shape"
   ]
  },
  {
   "cell_type": "code",
   "execution_count": 195,
   "metadata": {},
   "outputs": [
    {
     "data": {
      "text/plain": [
       "(numpy.ndarray, (4L, 1L))"
      ]
     },
     "execution_count": 195,
     "metadata": {},
     "output_type": "execute_result"
    }
   ],
   "source": [
    "# Output dataset matrix where each row is a training example\n",
    "y = np.array([[0,0,1,1]]).T\n",
    "type(y), y.shape"
   ]
  },
  {
   "cell_type": "code",
   "execution_count": 196,
   "metadata": {
    "collapsed": true
   },
   "outputs": [],
   "source": [
    "# seed random numbers to make calculation deterministic (just a good practice)\n",
    "np.random.seed(1)"
   ]
  },
  {
   "cell_type": "code",
   "execution_count": 197,
   "metadata": {},
   "outputs": [
    {
     "data": {
      "text/plain": [
       "array([[-0.16595599],\n",
       "       [ 0.44064899],\n",
       "       [-0.99977125]])"
      ]
     },
     "execution_count": 197,
     "metadata": {},
     "output_type": "execute_result"
    }
   ],
   "source": [
    "# initialize weights randomly with mean 0\n",
    "# Syn0 = First layer of weights, Synapse 0, connecting l0 to l1.\n",
    "syn0 = 2*np.random.random((3,1)) - 1\n",
    "syn0"
   ]
  },
  {
   "cell_type": "code",
   "execution_count": 198,
   "metadata": {
    "scrolled": true
   },
   "outputs": [
    {
     "name": "stdout",
     "output_type": "stream",
     "text": [
      "-------------------------------\n",
      "Output loop  0  training\n",
      "-------------------------------\n",
      "\n",
      "===============\n",
      "L1 (Y') = sigmoide(np.dot(L0,syn0)) \n",
      "===============\n",
      "[[ 0.2689864 ]\n",
      " [ 0.36375058]\n",
      " [ 0.23762817]\n",
      " [ 0.3262757 ]]\n",
      "-------------------------------\n",
      "Output loop  1000  training\n",
      "-------------------------------\n",
      "\n",
      "===============\n",
      "L1 (Y') = sigmoide(np.dot(L0,syn0)) \n",
      "===============\n",
      "[[ 0.03176745]\n",
      " [ 0.02575143]\n",
      " [ 0.97907779]\n",
      " [ 0.97416005]]\n",
      "-------------------------------\n",
      "Output loop  2000  training\n",
      "-------------------------------\n",
      "\n",
      "===============\n",
      "L1 (Y') = sigmoide(np.dot(L0,syn0)) \n",
      "===============\n",
      "[[ 0.02210122]\n",
      " [ 0.01793507]\n",
      " [ 0.985409  ]\n",
      " [ 0.98200541]]\n",
      "-------------------------------\n",
      "Output loop  3000  training\n",
      "-------------------------------\n",
      "\n",
      "===============\n",
      "L1 (Y') = sigmoide(np.dot(L0,syn0)) \n",
      "===============\n",
      "[[ 0.0179128 ]\n",
      " [ 0.01454746]\n",
      " [ 0.98815758]\n",
      " [ 0.98540875]]\n",
      "-------------------------------\n",
      "Output loop  4000  training\n",
      "-------------------------------\n",
      "\n",
      "===============\n",
      "L1 (Y') = sigmoide(np.dot(L0,syn0)) \n",
      "===============\n",
      "[[ 0.01544409]\n",
      " [ 0.0125494 ]\n",
      " [ 0.98978021]\n",
      " [ 0.98741602]]\n",
      "-------------------------------\n",
      "Output loop  5000  training\n",
      "-------------------------------\n",
      "\n",
      "===============\n",
      "L1 (Y') = sigmoide(np.dot(L0,syn0)) \n",
      "===============\n",
      "[[ 0.01377152]\n",
      " [ 0.01119485]\n",
      " [ 0.99088089]\n",
      " [ 0.98877656]]\n",
      "-------------------------------\n",
      "Output loop  6000  training\n",
      "-------------------------------\n",
      "\n",
      "===============\n",
      "L1 (Y') = sigmoide(np.dot(L0,syn0)) \n",
      "===============\n",
      "[[ 0.01254323]\n",
      " [ 0.01019961]\n",
      " [ 0.99168995]\n",
      " [ 0.98977602]]\n",
      "-------------------------------\n",
      "Output loop  7000  training\n",
      "-------------------------------\n",
      "\n",
      "===============\n",
      "L1 (Y') = sigmoide(np.dot(L0,syn0)) \n",
      "===============\n",
      "[[ 0.01159234]\n",
      " [ 0.0094288 ]\n",
      " [ 0.99231678]\n",
      " [ 0.99054995]]\n",
      "-------------------------------\n",
      "Output loop  8000  training\n",
      "-------------------------------\n",
      "\n",
      "===============\n",
      "L1 (Y') = sigmoide(np.dot(L0,syn0)) \n",
      "===============\n",
      "[[ 0.01082824]\n",
      " [ 0.00880917]\n",
      " [ 0.99282079]\n",
      " [ 0.99117199]]\n",
      "-------------------------------\n",
      "Output loop  9000  training\n",
      "-------------------------------\n",
      "\n",
      "===============\n",
      "L1 (Y') = sigmoide(np.dot(L0,syn0)) \n",
      "===============\n",
      "[[ 0.01019693]\n",
      " [ 0.00829707]\n",
      " [ 0.99323743]\n",
      " [ 0.991686  ]]\n",
      "\n",
      "===============\n",
      "Output after training\n",
      "===============\n",
      "[[ 0.00966449]\n",
      " [ 0.00786506]\n",
      " [ 0.99358898]\n",
      " [ 0.99211957]]\n",
      "\n",
      "===============\n",
      "Final syn0\n",
      "===============\n",
      "[[ 9.67299303]\n",
      " [-0.2078435 ]\n",
      " [-4.62963669]]\n"
     ]
    }
   ],
   "source": [
    "iterations = 10000\n",
    "for iter in xrange(iterations):\n",
    "    # forward propagation    \n",
    "    # L0 = First Layer of the Network, specified by the input data\n",
    "    l0 = X\n",
    "    \n",
    "    # L1 = Second Layer of the Network, otherwise known as the hidden layer\n",
    "    l1 = nonlin(np.dot(l0,syn0))\n",
    "    \n",
    "    # how much did we miss?\n",
    "    l1_error = y - l1\n",
    "    \n",
    "    # multiply how much we missed by the\n",
    "    # slope of the sigmoid at the values in l1\n",
    "    l1_delta = l1_error * nonlin(l1, True)\n",
    "    \n",
    "    if (iter % (iterations/10) == 0):\n",
    "        print \"-------------------------------\"\n",
    "        print \"Output loop \", iter, \" training\"\n",
    "        print \"-------------------------------\"\n",
    "        print \"===============\\nL0 (X)\\n===============\\n\", l0\n",
    "        print \"\\n===============\\nsyn0 (pesos)\\n===============\\n\", syn0\n",
    "        print \"\\n===============\\nnp.dot(L0,syn0)\\n===============\\n\", np.dot(l0,syn0)\n",
    "        print \"\\n===============\\nL1 (Y') = sigmoide(np.dot(L0,syn0)) \\n===============\\n\", l1\n",
    "        print \"\\n===============\\nL1 error (Y' - Y)\\n===============\\n\", l1_error\n",
    "        print \"\\n===============\\nnonlin(L1, True) (slope sigmóide de L1)\\n===============\\n\", nonlin(l1, True)\n",
    "        print \"\\n===============\\nL1 delta = (L1 error * slope sigmóide de L1)\\n===============\\n\", l1_delta\n",
    "        print \"\\n===============\\nL0 transposto\\n===============\\n\", l0.T\n",
    "        print \"\\n===============\\nnp.dot(L0.T, l1_delta) para somar a syn0\\n===============\\n\", np.dot(l0.T, l1_delta)\n",
    "        print \"\\n===============\\nold syn0\\n===============\\n\", syn0\n",
    "    # update weights\n",
    "    syn0 += np.dot(l0.T, l1_delta)   \n",
    "    \n",
    "    if (iter % (iterations/10) == 0):        \n",
    "        print \"\\n===============\\nnew syn0\\n===============\\n\", syn0\n",
    "        \n",
    "print \"\\n===============\\nOutput after training\\n===============\\n\", l1\n",
    "print \"\\n===============\\nFinal syn0\\n===============\\n\", syn0"
   ]
  },
  {
   "cell_type": "code",
   "execution_count": 138,
   "metadata": {},
   "outputs": [
    {
     "data": {
      "text/plain": [
       "array([[1, 1, 1],\n",
       "       [0, 0, 0]])"
      ]
     },
     "execution_count": 138,
     "metadata": {},
     "output_type": "execute_result"
    }
   ],
   "source": [
    "# Testing our predictor\n",
    "X_test = np.array([[1,1,1],\n",
    "                   [0,0,0]])\n",
    "X_test"
   ]
  },
  {
   "cell_type": "code",
   "execution_count": 139,
   "metadata": {},
   "outputs": [
    {
     "data": {
      "text/plain": [
       "array([[ 0.99211997],\n",
       "       [ 0.5       ]])"
      ]
     },
     "execution_count": 139,
     "metadata": {},
     "output_type": "execute_result"
    }
   ],
   "source": [
    "# Prediction\n",
    "Y_test = nonlin(np.dot(X_test,syn0))\n",
    "Y_test"
   ]
  },
  {
   "cell_type": "code",
   "execution_count": null,
   "metadata": {
    "collapsed": true
   },
   "outputs": [],
   "source": []
  }
 ],
 "metadata": {
  "kernelspec": {
   "display_name": "Python 2",
   "language": "python",
   "name": "python2"
  },
  "language_info": {
   "codemirror_mode": {
    "name": "ipython",
    "version": 2
   },
   "file_extension": ".py",
   "mimetype": "text/x-python",
   "name": "python",
   "nbconvert_exporter": "python",
   "pygments_lexer": "ipython2",
   "version": "2.7.14"
  }
 },
 "nbformat": 4,
 "nbformat_minor": 2
}
