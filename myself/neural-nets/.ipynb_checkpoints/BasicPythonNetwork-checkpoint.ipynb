{
 "cells": [
  {
   "cell_type": "code",
   "execution_count": 41,
   "metadata": {
    "collapsed": true
   },
   "outputs": [],
   "source": [
    "#http://iamtrask.github.io/2015/07/12/basic-python-network/\n",
    "\n",
    "#2 Layer Neural Network:\n",
    "import numpy as np"
   ]
  },
  {
   "cell_type": "code",
   "execution_count": 42,
   "metadata": {
    "collapsed": true
   },
   "outputs": [],
   "source": [
    "# sigmoid function\n",
    "def nonlin(x, deriv=False):\n",
    "    if (deriv == True):\n",
    "        return x*(1-x)\n",
    "    return 1/(1+np.exp(-x))"
   ]
  },
  {
   "cell_type": "code",
   "execution_count": 43,
   "metadata": {
    "collapsed": true
   },
   "outputs": [],
   "source": [
    "# Input dataset matrix where each row is a training example\n",
    "X = np.array([[0,0,1],\n",
    "              [0,1,1],\n",
    "              [1,0,1],\n",
    "              [1,1,1]])"
   ]
  },
  {
   "cell_type": "code",
   "execution_count": 44,
   "metadata": {},
   "outputs": [
    {
     "data": {
      "text/plain": [
       "(numpy.ndarray, (4L, 3L))"
      ]
     },
     "execution_count": 44,
     "metadata": {},
     "output_type": "execute_result"
    }
   ],
   "source": [
    "type(X), X.shape"
   ]
  },
  {
   "cell_type": "code",
   "execution_count": 45,
   "metadata": {
    "collapsed": true
   },
   "outputs": [],
   "source": [
    "# Output dataset matrix where each row is a training example\n",
    "y = np.array([[0,0,1,1]]).T"
   ]
  },
  {
   "cell_type": "code",
   "execution_count": 46,
   "metadata": {},
   "outputs": [
    {
     "data": {
      "text/plain": [
       "(numpy.ndarray, (4L, 1L))"
      ]
     },
     "execution_count": 46,
     "metadata": {},
     "output_type": "execute_result"
    }
   ],
   "source": [
    "type(y), y.shape"
   ]
  },
  {
   "cell_type": "code",
   "execution_count": 47,
   "metadata": {
    "collapsed": true
   },
   "outputs": [],
   "source": [
    "# seed random numbers to make calculation deterministic (just a good practice)\n",
    "np.random.seed(1)"
   ]
  },
  {
   "cell_type": "code",
   "execution_count": 48,
   "metadata": {
    "collapsed": true
   },
   "outputs": [],
   "source": [
    "# initialize weights randomly with mean 0\n",
    "syn0 = 2*np.random.random((3,1)) - 1"
   ]
  },
  {
   "cell_type": "code",
   "execution_count": 49,
   "metadata": {},
   "outputs": [
    {
     "data": {
      "text/plain": [
       "array([[-0.16595599],\n",
       "       [ 0.44064899],\n",
       "       [-0.99977125]])"
      ]
     },
     "execution_count": 49,
     "metadata": {},
     "output_type": "execute_result"
    }
   ],
   "source": [
    "# Syn0 = First layer of weights, Synapse 0, connecting l0 to l1.\n",
    "syn0"
   ]
  },
  {
   "cell_type": "code",
   "execution_count": 60,
   "metadata": {},
   "outputs": [
    {
     "name": "stdout",
     "output_type": "stream",
     "text": [
      "-------------------------------\n",
      "Output loop  0  training\n",
      "-------------------------------\n",
      "syn0: \n",
      "[[ 12.00870061]\n",
      " [ -0.2044116 ]\n",
      " [ -5.8002822 ]]\n",
      "L1: \n",
      "[[ 0.00301757]\n",
      " [ 0.00246107]\n",
      " [ 0.99799162]\n",
      " [ 0.99753724]]\n",
      "-------------------------------\n",
      "Output loop  1000  training\n",
      "-------------------------------\n",
      "syn0: \n",
      "[[ 12.01872615]\n",
      " [ -0.20440338]\n",
      " [ -5.80530155]]\n",
      "L1: \n",
      "[[ 0.0030025 ]\n",
      " [ 0.0024488 ]\n",
      " [ 0.99800163]\n",
      " [ 0.99754953]]\n",
      "-------------------------------\n",
      "Output loop  2000  training\n",
      "-------------------------------\n",
      "syn0: \n",
      "[[ 12.02865254]\n",
      " [ -0.20439528]\n",
      " [ -5.81027122]]\n",
      "L1: \n",
      "[[ 0.00298766]\n",
      " [ 0.00243671]\n",
      " [ 0.99801149]\n",
      " [ 0.99756163]]\n",
      "-------------------------------\n",
      "Output loop  3000  training\n",
      "-------------------------------\n",
      "syn0: \n",
      "[[ 12.03848172]\n",
      " [ -0.20438731]\n",
      " [ -5.8151922 ]]\n",
      "L1: \n",
      "[[ 0.00297304]\n",
      " [ 0.0024248 ]\n",
      " [ 0.99802121]\n",
      " [ 0.99757356]]\n",
      "-------------------------------\n",
      "Output loop  4000  training\n",
      "-------------------------------\n",
      "syn0: \n",
      "[[ 12.04821558]\n",
      " [ -0.20437944]\n",
      " [ -5.82006542]]\n",
      "L1: \n",
      "[[ 0.00295863]\n",
      " [ 0.00241306]\n",
      " [ 0.99803079]\n",
      " [ 0.99758532]]\n",
      "-------------------------------\n",
      "Output loop  5000  training\n",
      "-------------------------------\n",
      "syn0: \n",
      "[[ 12.05785595]\n",
      " [ -0.20437169]\n",
      " [ -5.82489181]]\n",
      "L1: \n",
      "[[ 0.00294443]\n",
      " [ 0.00240149]\n",
      " [ 0.99804023]\n",
      " [ 0.99759691]]\n",
      "-------------------------------\n",
      "Output loop  6000  training\n",
      "-------------------------------\n",
      "syn0: \n",
      "[[ 12.0674046 ]\n",
      " [ -0.20436404]\n",
      " [ -5.82967224]]\n",
      "L1: \n",
      "[[ 0.00293043]\n",
      " [ 0.00239008]\n",
      " [ 0.99804953]\n",
      " [ 0.99760833]]\n",
      "-------------------------------\n",
      "Output loop  7000  training\n",
      "-------------------------------\n",
      "syn0: \n",
      "[[ 12.07686326]\n",
      " [ -0.2043565 ]\n",
      " [ -5.8344076 ]]\n",
      "L1: \n",
      "[[ 0.00291662]\n",
      " [ 0.00237883]\n",
      " [ 0.9980587 ]\n",
      " [ 0.99761959]]\n",
      "-------------------------------\n",
      "Output loop  8000  training\n",
      "-------------------------------\n",
      "syn0: \n",
      "[[ 12.08623361]\n",
      " [ -0.20434907]\n",
      " [ -5.83909873]]\n",
      "L1: \n",
      "[[ 0.00290301]\n",
      " [ 0.00236774]\n",
      " [ 0.99806775]\n",
      " [ 0.99763069]]\n",
      "-------------------------------\n",
      "Output loop  9000  training\n",
      "-------------------------------\n",
      "syn0: \n",
      "[[ 12.09551728]\n",
      " [ -0.20434174]\n",
      " [ -5.84374643]]\n",
      "L1: \n",
      "[[ 0.00288959]\n",
      " [ 0.00235681]\n",
      " [ 0.99807667]\n",
      " [ 0.99764164]]\n",
      "Output after training\n",
      "[[ 0.00287637]\n",
      " [ 0.00234603]\n",
      " [ 0.99808546]\n",
      " [ 0.99765243]]\n"
     ]
    }
   ],
   "source": [
    "for iter in xrange(10000):\n",
    "    # forward propagation\n",
    "    \n",
    "    #L0 = First Layer of the Network, specified by the input data\n",
    "    l0 = X\n",
    "    \n",
    "    # L1 = Second Layer of the Network, otherwise known as the hidden layer\n",
    "    l1 = nonlin(np.dot(l0,syn0))\n",
    "    if (iter % 1000 == 0):\n",
    "        print \"-------------------------------\"\n",
    "        print \"Output loop \", iter, \" training\"\n",
    "        print \"-------------------------------\"\n",
    "        print \"syn0: \\n\", syn0\n",
    "        print \"L1: \\n\",l1\n",
    "    # how much did we miss?\n",
    "    l1_error = y - l1\n",
    "    \n",
    "    # multiply how much we missed by the\n",
    "    # slope of the sigmoid at the values in l1\n",
    "    l1_delta = l1_error * nonlin(l1, True)\n",
    "    \n",
    "    # update weights\n",
    "    syn0 += np.dot(l0.T, l1_delta)   \n",
    "    \n",
    "print \"Output after training\"\n",
    "print l1"
   ]
  },
  {
   "cell_type": "code",
   "execution_count": 38,
   "metadata": {
    "collapsed": true
   },
   "outputs": [],
   "source": [
    "# X: Input dataset matrix where each row is a training example\n",
    "# y: Output dataset matrix where each row is a training example\n",
    "# l0: First Layer of the Network, specified by the input data\n",
    "# l1: Second Layer of the Network, otherwise known as the hidden layer\n",
    "# syn0: First layer of weights, Synapse 0, connecting l0 to l1.\n",
    "# *: Elementwise multiplication, so two vectors of equal size are multiplying corresponding values 1-to-1 to generate a final vector of identical size.\n",
    "# -: Elementwise subtraction, so two vectors of equal size are subtracting corresponding values 1-to-1 to generate a final vector of identical size.\n",
    "# x.dot(y): If x and y are vectors, this is a dot product. \n",
    "#           If both are matrices, it's a matrix-matrix multiplication. \n",
    "#           If only one is a matrix, then it's vector matrix multiplication."
   ]
  },
  {
   "cell_type": "code",
   "execution_count": null,
   "metadata": {
    "collapsed": true
   },
   "outputs": [],
   "source": []
  }
 ],
 "metadata": {
  "kernelspec": {
   "display_name": "Python 2",
   "language": "python",
   "name": "python2"
  },
  "language_info": {
   "codemirror_mode": {
    "name": "ipython",
    "version": 2
   },
   "file_extension": ".py",
   "mimetype": "text/x-python",
   "name": "python",
   "nbconvert_exporter": "python",
   "pygments_lexer": "ipython2",
   "version": "2.7.14"
  }
 },
 "nbformat": 4,
 "nbformat_minor": 2
}
