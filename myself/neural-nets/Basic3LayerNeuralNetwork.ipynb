{
 "cells": [
  {
   "cell_type": "code",
   "execution_count": 27,
   "metadata": {
    "collapsed": true
   },
   "outputs": [],
   "source": [
    "#http://iamtrask.github.io/2015/07/12/basic-python-network/\n",
    "\n",
    "#3 Layer Neural Network:\n",
    "import numpy as np\n",
    "np.set_printoptions(suppress=True)"
   ]
  },
  {
   "cell_type": "code",
   "execution_count": 28,
   "metadata": {
    "collapsed": true
   },
   "outputs": [],
   "source": [
    "def nonlin(x, deriv=False):\n",
    "    if (deriv == True):\n",
    "        return x*(1-x)\n",
    "    return 1/(1 + np.exp(-x))"
   ]
  },
  {
   "cell_type": "code",
   "execution_count": 29,
   "metadata": {
    "collapsed": true
   },
   "outputs": [],
   "source": [
    "X = np.array([[0,0,1],\n",
    "              [0,1,1],\n",
    "              [1,0,1],\n",
    "              [1,1,1],\n",
    "              [0,0,0],\n",
    "              [0,1,0],\n",
    "              [1,0,0],\n",
    "              [1,1,0],])\n",
    "y = np.array([[0],[1],[1],[0],[0],[1],[1],[0]])"
   ]
  },
  {
   "cell_type": "code",
   "execution_count": 30,
   "metadata": {
    "collapsed": true
   },
   "outputs": [],
   "source": [
    "np.random.seed(1)"
   ]
  },
  {
   "cell_type": "code",
   "execution_count": 31,
   "metadata": {
    "collapsed": true
   },
   "outputs": [],
   "source": [
    "# randomly initialize our weights with mean 0\n",
    "syn0 = 2*np.random.random((3,4)) - 1\n",
    "syn1 = 2*np.random.random((4,1)) - 1"
   ]
  },
  {
   "cell_type": "code",
   "execution_count": 32,
   "metadata": {},
   "outputs": [
    {
     "name": "stdout",
     "output_type": "stream",
     "text": [
      "Error:0.496594645572\n",
      "Error:0.0111573958914\n",
      "Error:0.00777321739466\n",
      "Error:0.00631010429369\n",
      "Error:0.00544704547599\n",
      "Error:0.00486166387165\n",
      "\n",
      "===============\n",
      "Output after training\n",
      "===============\n",
      "[[ 0.00069079]\n",
      " [ 0.9956045 ]\n",
      " [ 0.99494822]\n",
      " [ 0.00397855]\n",
      " [ 0.00805094]\n",
      " [ 0.99525902]\n",
      " [ 0.99506009]\n",
      " [ 0.0036024 ]]\n",
      "\n",
      "===============\n",
      "Final syn0\n",
      "===============\n",
      "[[ 5.82600887  4.23467033 -6.42928367 -6.91049885]\n",
      " [-2.72826627 -8.33613644 -6.24449123  3.39964891]\n",
      " [-0.32518005 -0.01987913  0.57714751  0.0333551 ]]\n",
      "\n",
      "===============\n",
      "Final syn1\n",
      "===============\n",
      "[[ -6.25679349]\n",
      " [ 11.73947778]\n",
      " [-21.07152648]\n",
      " [  5.96106074]]\n"
     ]
    }
   ],
   "source": [
    "for j in xrange(60000):\n",
    "    # Feed forward through layers 0, 1 and 2\n",
    "    l0 = X\n",
    "    l1 = nonlin(np.dot(l0, syn0))\n",
    "    l2 = nonlin(np.dot(l1, syn1))\n",
    "    \n",
    "    # how much did we miss the target value?\n",
    "    l2_error = y - l2\n",
    "    \n",
    "    if (j%10000 == 0):\n",
    "        print \"Error:\" + str(np.mean(np.abs(l2_error)))\n",
    "    \n",
    "    # in what direction is the target value?\n",
    "    # were we really sure? if so, don't change too much\n",
    "    l2_delta = l2_error * nonlin(l2, deriv=True)\n",
    "    \n",
    "    # how much did each l1 value contribute to the l2 error (according to the weights) ?\n",
    "    l1_error = l2_delta.dot(syn1.T)\n",
    "    \n",
    "    # in what direction is the target l1?\n",
    "    # were we really sure? if so, don't change too much\n",
    "    l1_delta = l1_error * nonlin(l1, deriv=True)\n",
    "    \n",
    "    #updating weights\n",
    "    syn1 += l1.T.dot(l2_delta)    \n",
    "    syn0 += l0.T.dot(l1_delta)\n",
    "    \n",
    "print \"\\n===============\\nOutput after training\\n===============\\n\", l2\n",
    "print \"\\n===============\\nFinal syn0\\n===============\\n\", syn0\n",
    "print \"\\n===============\\nFinal syn1\\n===============\\n\", syn1"
   ]
  },
  {
   "cell_type": "code",
   "execution_count": null,
   "metadata": {
    "collapsed": true
   },
   "outputs": [],
   "source": []
  }
 ],
 "metadata": {
  "kernelspec": {
   "display_name": "Python 2",
   "language": "python",
   "name": "python2"
  },
  "language_info": {
   "codemirror_mode": {
    "name": "ipython",
    "version": 2
   },
   "file_extension": ".py",
   "mimetype": "text/x-python",
   "name": "python",
   "nbconvert_exporter": "python",
   "pygments_lexer": "ipython2",
   "version": "2.7.14"
  }
 },
 "nbformat": 4,
 "nbformat_minor": 2
}
